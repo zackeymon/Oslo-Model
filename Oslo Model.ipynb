{
 "cells": [
  {
   "cell_type": "markdown",
   "metadata": {},
   "source": [
    "*All of the code in this notebook is done to maxmise clarity.  \n",
    "For more beautiful and optimised code, please check the implemenetation of the classes and analysing functions.*"
   ]
  },
  {
   "cell_type": "markdown",
   "metadata": {},
   "source": [
    "# Initialisation\n",
    "Import the necessary class and define the constants for the Oslo Model."
   ]
  },
  {
   "cell_type": "code",
   "execution_count": 1,
   "metadata": {
    "collapsed": true
   },
   "outputs": [],
   "source": [
    "import numpy as np\n",
    "import matplotlib.pyplot as plt\n",
    "import pickle\n",
    "from pile import Pile\n",
    "\n",
    "# Constants\n",
    "POSSIBLE_THRESHOLD_SLOPES = (1, 2)\n",
    "OSLO_PROBS = (0.5, 0.5)"
   ]
  },
  {
   "cell_type": "markdown",
   "metadata": {},
   "source": [
    "# Task 1\n",
    "## Threshold Slopes Test\n",
    "Create some length 16 piles with different values of $p$:"
   ]
  },
  {
   "cell_type": "code",
   "execution_count": 2,
   "metadata": {
    "collapsed": true
   },
   "outputs": [],
   "source": [
    "probs1 = (1, 0)  # p = 1\n",
    "probs2 = (0, 1)  # p = 0\n",
    "\n",
    "pile1 = Pile(16, probs1, POSSIBLE_THRESHOLD_SLOPES, name=\"BTW pile, length 16\")\n",
    "pile2 = Pile(16, probs2, POSSIBLE_THRESHOLD_SLOPES)\n",
    "\n",
    "oslo_pile_xs = Pile(16, OSLO_PROBS, POSSIBLE_THRESHOLD_SLOPES, name=\"Oslo pile, length 16\")"
   ]
  },
  {
   "cell_type": "markdown",
   "metadata": {},
   "source": [
    "All threshold slopes of *pile1* should be 1:"
   ]
  },
  {
   "cell_type": "code",
   "execution_count": 3,
   "metadata": {
    "collapsed": false
   },
   "outputs": [
    {
     "data": {
      "text/plain": [
       "[1, 1, 1, 1, 1, 1, 1, 1, 1, 1, 1, 1, 1, 1, 1, 1]"
      ]
     },
     "execution_count": 3,
     "metadata": {},
     "output_type": "execute_result"
    }
   ],
   "source": [
    "pile1.get_threshold_slopes()"
   ]
  },
  {
   "cell_type": "markdown",
   "metadata": {},
   "source": [
    "All threshold slopes of *pile2* should be 2:"
   ]
  },
  {
   "cell_type": "code",
   "execution_count": 4,
   "metadata": {
    "collapsed": false
   },
   "outputs": [
    {
     "data": {
      "text/plain": [
       "[2, 2, 2, 2, 2, 2, 2, 2, 2, 2, 2, 2, 2, 2, 2, 2]"
      ]
     },
     "execution_count": 4,
     "metadata": {},
     "output_type": "execute_result"
    }
   ],
   "source": [
    "pile2.get_threshold_slopes()"
   ]
  },
  {
   "cell_type": "markdown",
   "metadata": {},
   "source": [
    "Around half of the threshold slopes in *oslo_pile_xs* should be 1, and the other half should be 2:"
   ]
  },
  {
   "cell_type": "code",
   "execution_count": 5,
   "metadata": {
    "collapsed": false
   },
   "outputs": [
    {
     "data": {
      "text/plain": [
       "[1, 2, 1, 2, 1, 1, 1, 1, 1, 2, 2, 1, 2, 1, 1, 1]"
      ]
     },
     "execution_count": 5,
     "metadata": {},
     "output_type": "execute_result"
    }
   ],
   "source": [
    "oslo_pile_xs.get_threshold_slopes()"
   ]
  },
  {
   "cell_type": "markdown",
   "metadata": {
    "collapsed": true
   },
   "source": [
    "## BTW vs. Oslo Test\n",
    "Note that *pile1* with $p = 1$ is the BTW model. We can recover its 1D recurrent configuration (staircase) by dropping enough grains on to the pile:"
   ]
  },
  {
   "cell_type": "code",
   "execution_count": 6,
   "metadata": {
    "collapsed": false
   },
   "outputs": [
    {
     "data": {
      "text/plain": [
       "[16, 15, 14, 13, 12, 11, 10, 9, 8, 7, 6, 5, 4, 3, 2, 1]"
      ]
     },
     "execution_count": 6,
     "metadata": {},
     "output_type": "execute_result"
    }
   ],
   "source": [
    "for _ in range(500):\n",
    "    pile1.drop_grain()\n",
    "    \n",
    "pile1.get_heights()"
   ]
  },
  {
   "cell_type": "markdown",
   "metadata": {},
   "source": [
    "At the stable state, dropping a grain to the *i*th site of the pile will result in an avalanche size of $s = L - i$, where $s$ is the avalanche size, $L$ the length of the pile."
   ]
  },
  {
   "cell_type": "code",
   "execution_count": 7,
   "metadata": {
    "collapsed": false
   },
   "outputs": [
    {
     "data": {
      "text/plain": [
       "16"
      ]
     },
     "execution_count": 7,
     "metadata": {},
     "output_type": "execute_result"
    }
   ],
   "source": [
    "# i = 0\n",
    "pile1.drop_grain()\n",
    "pile1.ava_size"
   ]
  },
  {
   "cell_type": "code",
   "execution_count": 8,
   "metadata": {
    "collapsed": false
   },
   "outputs": [
    {
     "data": {
      "text/plain": [
       "10"
      ]
     },
     "execution_count": 8,
     "metadata": {},
     "output_type": "execute_result"
    }
   ],
   "source": [
    "# i = 6\n",
    "pile1.drop_grain(site_index=6)\n",
    "pile1.ava_size"
   ]
  },
  {
   "cell_type": "markdown",
   "metadata": {},
   "source": [
    "Now we try the same thing with the Oslo pile:"
   ]
  },
  {
   "cell_type": "code",
   "execution_count": 9,
   "metadata": {
    "collapsed": false
   },
   "outputs": [
    {
     "data": {
      "text/plain": [
       "[29, 27, 25, 24, 23, 21, 19, 17, 15, 13, 11, 10, 8, 6, 4, 2]"
      ]
     },
     "execution_count": 9,
     "metadata": {},
     "output_type": "execute_result"
    }
   ],
   "source": [
    "for _ in range(500):\n",
    "    oslo_pile_xs.drop_grain()\n",
    "    \n",
    "oslo_pile_xs.get_heights()"
   ]
  },
  {
   "cell_type": "markdown",
   "metadata": {
    "collapsed": false
   },
   "source": [
    "Finally, we compare the pile heights of the two piles versus time (number of grains dropped):"
   ]
  },
  {
   "cell_type": "code",
   "execution_count": 10,
   "metadata": {
    "collapsed": false
   },
   "outputs": [
    {
     "data": {
      "image/png": "[encoded data removed]",
      "text/plain": [
       "<matplotlib.figure.Figure at 0x17e56b5a4e0>"
      ]
     },
     "metadata": {},
     "output_type": "display_data"
    }
   ],
   "source": [
    "# reinitialise the piles\n",
    "pile1.reset()\n",
    "oslo_pile_xs.reset()\n",
    "\n",
    "for i in (pile1, oslo_pile_xs):\n",
    "    pile_heights = []\n",
    "    \n",
    "    # drop 500 grains\n",
    "    for t in range(500):\n",
    "        pile_heights.append(i.get_pile_height())\n",
    "        i.drop_grain()\n",
    "    plt.plot(pile_heights, label=i.name)\n",
    "    \n",
    "plt.xlabel(\"t (number of grains dropped)\")\n",
    "plt.ylabel(\"pile height (grains)\")\n",
    "plt.legend(loc=0)\n",
    "plt.show()"
   ]
  },
  {
   "cell_type": "markdown",
   "metadata": {},
   "source": [
    "Arriving the recurring configurations, we can keep dropping grains to the *oslo_pile_xs* and the pile height should average to $\\langle h \\rangle=26.5$."
   ]
  },
  {
   "cell_type": "code",
   "execution_count": 11,
   "metadata": {
    "collapsed": false
   },
   "outputs": [
    {
     "data": {
      "text/plain": [
       "26.524799999999999"
      ]
     },
     "execution_count": 11,
     "metadata": {},
     "output_type": "execute_result"
    }
   ],
   "source": [
    "pile_heights = []\n",
    "\n",
    "for i in range(10000):\n",
    "    oslo_pile_xs.drop_grain()\n",
    "    pile_heights.append(oslo_pile_xs.get_pile_height())\n",
    "    \n",
    "np.average(pile_heights)"
   ]
  },
  {
   "cell_type": "markdown",
   "metadata": {},
   "source": [
    "As we can see, the Oslo model exhibits very different behaviours to the BTW model.  \n",
    "These tests have also sufficiently proved the correctness of the program.\n",
    "\n",
    "---\n",
    "\n",
    "# Task 2a\n",
    "\n",
    "## Save/load Data\n",
    "We first save the simulation data to a file, as simulating large system requires a lot of computational time.\n",
    "The pile reaches a steady state when the last site topples. We can use this property to determine the amount of grains to drop."
   ]
  },
  {
   "cell_type": "markdown",
   "metadata": {},
   "source": [
    "~~~python\n",
    "\n",
    "oslo_pile_xs = Pile(16, OSLO_PROBS, POSSIBLE_THRESHOLD_SLOPES)\n",
    "oslo_pile_s = Pile(32, OSLO_PROBS, POSSIBLE_THRESHOLD_SLOPES)\n",
    "oslo_pile_m = Pile(64, OSLO_PROBS, POSSIBLE_THRESHOLD_SLOPES)\n",
    "oslo_pile_l = Pile(128, OSLO_PROBS, POSSIBLE_THRESHOLD_SLOPES)\n",
    "oslo_pile_xl = Pile(256, OSLO_PROBS, POSSIBLE_THRESHOLD_SLOPES)\n",
    "oslo_pile_xxl = Pile(512, OSLO_PROBS, POSSIBLE_THRESHOLD_SLOPES)\n",
    "\n",
    "piles = (oslo_pile_xs, oslo_pile_s, oslo_pile_m, oslo_pile_l, oslo_pile_xl, oslo_pile_xxl)\n",
    "data_dict = {}\n",
    "\n",
    "for pile in piles:\n",
    "    pile_dict = {'heights': [], 'avalanche size': []}\n",
    "    \n",
    "    while not pile.is_at_steady_state:\n",
    "        pile_dict['heights'].append(pile.get_pile_height())\n",
    "        pile_dict['avalanche size'].append(pile.ava_size)\n",
    "        pile.drop_grain()\n",
    "\n",
    "    for _ in range(10000):\n",
    "        pile_dict['heights'].append(pile.get_pile_height())\n",
    "        pile_dict['avalanche size'].append(pile.ava_size)\n",
    "        pile.drop_grain()\n",
    "\n",
    "    data_dict[pile.length] = pile_dict\n",
    "\n",
    "pickle.dump(data_dict, open('height_and_avalanche_data', 'wb'))\n",
    "    \n",
    "~~~"
   ]
  },
  {
   "cell_type": "markdown",
   "metadata": {},
   "source": [
    "When the pile reaches a steady state, we drop 10,000 more grains for the average height calculation later.  \n",
    "The above code block takes around 30 minutes to run.\n",
    "\n",
    "**4.8259100914001465  \n",
    "9.402869939804077  \n",
    "20.45176386833191  \n",
    "60.15304374694824  \n",
    "272.26051449775696  \n",
    "1928.6817326545715**\n",
    "\n",
    "We can load the data back into program:"
   ]
  },
  {
   "cell_type": "code",
   "execution_count": 19,
   "metadata": {
    "collapsed": false
   },
   "outputs": [],
   "source": [
    "data_dict = pickle.load(open('height_and_avalanche_data', 'rb'))"
   ]
  },
  {
   "cell_type": "markdown",
   "metadata": {},
   "source": [
    "## Height vs. Time Plots\n",
    "**Plot the pile height against time (number of grains dropped):**"
   ]
  },
  {
   "cell_type": "code",
   "execution_count": 20,
   "metadata": {
    "collapsed": false
   },
   "outputs": [
    {
     "data": {
      "image/png": "[encoded data removed]",
      "text/plain": [
       "<matplotlib.figure.Figure at 0x17e56c3b2b0>"
      ]
     },
     "metadata": {},
     "output_type": "display_data"
    }
   ],
   "source": [
    "for length, pile_dict in data_dict.items():\n",
    "    plt.figure(1)\n",
    "    plt.plot(pile_dict['heights'], label=length)\n",
    "\n",
    "plt.xlabel(\"t (number of grains dropped)\")\n",
    "plt.ylabel(\"pile height (grains)\")\n",
    "plt.legend(loc=0, title=\"System Length\")\n",
    "plt.show()"
   ]
  },
  {
   "cell_type": "markdown",
   "metadata": {},
   "source": [
    "**As we can see, the height of the piles initially follows a curve. This is when the pile is still in transient configurations. At certain times, the heights flatten, denoting the corresponding piles reaching recurrent configurations.** "
   ]
  },
  {
   "cell_type": "markdown",
   "metadata": {},
   "source": [
    "## fit the line with smoothed points"
   ]
  }
 ],
 "metadata": {
  "anaconda-cloud": {},
  "kernelspec": {
   "display_name": "Python [default]",
   "language": "python",
   "name": "python3"
  },
  "language_info": {
   "codemirror_mode": {
    "name": "ipython",
    "version": 3
   },
   "file_extension": ".py",
   "mimetype": "text/x-python",
   "name": "python",
   "nbconvert_exporter": "python",
   "pygments_lexer": "ipython3",
   "version": "3.5.2"
  }
 },
 "nbformat": 4,
 "nbformat_minor": 0
}
